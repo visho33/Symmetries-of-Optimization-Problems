{
 "cells": [
  {
   "cell_type": "code",
   "execution_count": 10,
   "metadata": {},
   "outputs": [],
   "source": [
    "import random, numpy\n",
    "\n",
    "def generate_bases(dim, n):\n",
    "    #generate n bases of R^dim\n",
    "    random.seed(33)\n",
    "    base = [[[0 for i in range(dim)] for j in range(dim)] for k in range(n)]\n",
    "    k = 0\n",
    "    while k < n:\n",
    "        for i in range(dim):\n",
    "            for j in range(dim):\n",
    "                base[k][i][j] = random.choice([0, 1])\n",
    "        if abs(numpy.linalg.det(base[k])) >= 0.9:\n",
    "            k = k + 1\n",
    "    return base\n",
    "\n",
    "def print_matrix(matrix):\n",
    "    print(numpy.array(matrix))\n",
    "    return"
   ]
  },
  {
   "cell_type": "code",
   "execution_count": null,
   "metadata": {},
   "outputs": [],
   "source": []
  }
 ],
 "metadata": {
  "kernelspec": {
   "display_name": "SageMath 9.3",
   "language": "sage",
   "name": "sagemath"
  },
  "language_info": {
   "codemirror_mode": {
    "name": "ipython",
    "version": 3
   },
   "file_extension": ".py",
   "mimetype": "text/x-python",
   "name": "python",
   "nbconvert_exporter": "python",
   "pygments_lexer": "ipython3",
   "version": "3.7.10"
  }
 },
 "nbformat": 4,
 "nbformat_minor": 4
}
