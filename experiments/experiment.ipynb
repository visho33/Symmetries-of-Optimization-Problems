{
 "cells": [
  {
   "cell_type": "code",
   "execution_count": null,
   "metadata": {},
   "outputs": [],
   "source": [
    "def experiment(generator, dim, num_bases):\n",
    "\n",
    "    orbitas = []\n",
    "    base = generate_bases(dim, num_bases)\n",
    "    for i in range(num_bases):\n",
    "        F = get_general_dirichlet_domain(generator, base[i])\n",
    "        rayos = F.rays()\n",
    "        orbitas.append(get_rays_orbits(dim, generator, rayos))\n",
    "        largos = [len(orbitas[i][orbita]) for orbita in orbitas[i].keys()]\n",
    "        largos.sort(reverse = True)\n",
    "        print('Para la base',i+1,'Los largos de las órbitas son:', largos, 'y hay ', len(F.Hrepresentation()), 'desigualdades')"
   ]
  }
 ],
 "metadata": {
  "kernelspec": {
   "display_name": "SageMath 9.3",
   "language": "sage",
   "name": "sagemath"
  },
  "language_info": {
   "codemirror_mode": {
    "name": "ipython",
    "version": 3
   },
   "file_extension": ".py",
   "mimetype": "text/x-python",
   "name": "python",
   "nbconvert_exporter": "python",
   "pygments_lexer": "ipython3",
   "version": "3.7.10"
  }
 },
 "nbformat": 4,
 "nbformat_minor": 4
}
