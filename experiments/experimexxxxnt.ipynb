def experiment(generator, dim, num_bases):

    orbitas = []
    base = generate_bases(dim, num_bases)
    for i in range(num_bases):
        F = get_general_dirichlet_domain(generator, base[i])
        rayos = F.rays()
        orbitas.append(get_rays_orbits(dim, generator, rayos))
        largos = [len(orbitas[i][orbita]) for orbita in orbitas[i].keys()]
        largos.sort(reverse = True)
        print('Para la base',i+1,'Los largos de las órbitas son:', largos, 'y hay ', len(F.Hrepresentation()), 'desigualdades')
