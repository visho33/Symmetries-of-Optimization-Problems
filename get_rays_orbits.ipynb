{
 "cells": [
  {
   "cell_type": "code",
   "execution_count": 2,
   "metadata": {},
   "outputs": [],
   "source": [
    "def get_rays_orbits(n, generador, rayos):\n",
    "    \n",
    "    I = IntegerVectorsModPermutationGroup(PermutationGroup(generador))\n",
    "    orbitas = {}\n",
    "    for i in range(len(rayos)):\n",
    "        \n",
    "        representante = I.retract(rayos[i])\n",
    "        if (representante in orbitas.keys()) == True:\n",
    "            orbitas[representante] = orbitas[representante] + [rayos[i]]\n",
    "            continue\n",
    "        \n",
    "        rayo_negativo = [-1*rayos[i][j] for j in range(n)]\n",
    "        representante_negativo = I.retract(rayo_negativo)\n",
    "        if (representante_negativo in orbitas.keys()) == True:\n",
    "            orbitas[representante_negativo] = orbitas[representante_negativo] + [rayos[i]]\n",
    "            continue\n",
    "        \n",
    "        orbitas[representante] = [rayos[i]]\n",
    "            \n",
    "    return orbitas"
   ]
  },
  {
   "cell_type": "code",
   "execution_count": 4,
   "metadata": {},
   "outputs": [
    {
     "name": "stdout",
     "output_type": "stream",
     "text": [
      "{[1, 1, 1]: [A ray in the direction (1, 1, 1)], [2, 2, -3]: [A ray in the direction (2, 2, -3), A ray in the direction (3, -2, -2)]}\n"
     ]
    }
   ],
   "source": [
    "rayos = [[2,2,-3],[3,-2,-2],[2,2,2]]\n",
    "X = Polyhedron(rays = rayos)\n",
    "rayos2 = X.rays() + X.lines()\n",
    "generador = [[(1,2,3)],[(2,1)]]\n",
    "G = PermutationGroup(generador)\n",
    "orbitas = get_rays_orbits(3, generador, rayos2)\n",
    "print(orbitas)"
   ]
  },
  {
   "cell_type": "code",
   "execution_count": null,
   "metadata": {},
   "outputs": [],
   "source": []
  }
 ],
 "metadata": {
  "kernelspec": {
   "display_name": "SageMath 9.3",
   "language": "sage",
   "name": "sagemath"
  },
  "language_info": {
   "codemirror_mode": {
    "name": "ipython",
    "version": 3
   },
   "file_extension": ".py",
   "mimetype": "text/x-python",
   "name": "python",
   "nbconvert_exporter": "python",
   "pygments_lexer": "ipython3",
   "version": "3.7.10"
  }
 },
 "nbformat": 4,
 "nbformat_minor": 4
}
