{
 "cells": [
  {
   "cell_type": "code",
   "execution_count": 16,
   "metadata": {},
   "outputs": [],
   "source": [
    "def get_general_dirichlet_domain(generator, base):\n",
    "    \n",
    "    n = len(base[0])\n",
    "    G = PermutationGroup(generator)\n",
    "    inequalities = []\n",
    "\n",
    "    for i in range(n):\n",
    "        \n",
    "        #print('Estabilizando la componente',i+1)\n",
    "        \n",
    "        vector = base[i]\n",
    "        partition = {}\n",
    "        for j in range(n):\n",
    "            if vector[j] in partition.keys():\n",
    "                partition[vector[j]].append(j+1)\n",
    "            else:\n",
    "                partition[vector[j]] = [j+1]\n",
    "        \n",
    "        H = G\n",
    "        for subset in partition:\n",
    "            H = H.stabilizer(partition[subset], \"OnSets\")\n",
    "            \n",
    "        #print('La cardinalidad luego de estabilizar es de',H.cardinality())\n",
    "        \n",
    "        if H.cardinality() == G.cardinality():\n",
    "            continue\n",
    "        \n",
    "        R = [x.Representative() for x in libgap.Group(G.gens()).RightCosets(libgap.Group(H.gens()))]\n",
    "        \n",
    "        #print('Se obtuvo el tranversal')\n",
    "        \n",
    "        for coset in R:\n",
    "            lista = [0 for i in range(n+1)]\n",
    "            for i in range(n):\n",
    "                lista[i+1] = lista[i+1] + vector[i]\n",
    "                lista[libgap.OnPoints(i+1, coset)] = lista[libgap.OnPoints(i+1, coset)] - vector[i]\n",
    "            inequalities.append(tuple(lista))\n",
    "            \n",
    "            lista = [0 for i in range(n+1)]\n",
    "            for i in range(n):\n",
    "                lista[i+1] = lista[i+1] + vector[i]\n",
    "                lista[libgap.OnPoints(i+1, libgap.Inverse(coset))] = lista[libgap.OnPoints(i+1, libgap.Inverse(coset))] - vector[i]\n",
    "            inequalities.append(tuple(lista))\n",
    "        G = H\n",
    "        #print('Se completaron las desigualdades')\n",
    "    #print('Se está creando el poliedro con las desigualdades, hay', len(inequalities), 'desigualdades')\n",
    "    F = Polyhedron(ieqs = inequalities)\n",
    "    return F"
   ]
  },
  {
   "cell_type": "code",
   "execution_count": 18,
   "metadata": {},
   "outputs": [
    {
     "name": "stdout",
     "output_type": "stream",
     "text": [
      "(An inequality (0, 0, 1, -1) x + 0 >= 0, An inequality (1, -1, 0, 0) x + 0 >= 0, An inequality (1, 0, -1, 0) x + 0 >= 0)\n"
     ]
    }
   ],
   "source": [
    "n = 4\n",
    "generador = [[(1,2)],[(3,4)],[(1,3),(2,4)]]\n",
    "base = [[1,0,0,0],[0,1,0,0],[0,0,1,0],[0,0,0,1]]\n",
    "F = get_general_dirichlet_domain(generador, base)\n",
    "print(F.Hrepresentation())"
   ]
  }
 ],
 "metadata": {
  "kernelspec": {
   "display_name": "SageMath 9.3",
   "language": "sage",
   "name": "sagemath"
  },
  "language_info": {
   "codemirror_mode": {
    "name": "ipython",
    "version": 3
   },
   "file_extension": ".py",
   "mimetype": "text/x-python",
   "name": "python",
   "nbconvert_exporter": "python",
   "pygments_lexer": "ipython3",
   "version": "3.7.10"
  }
 },
 "nbformat": 4,
 "nbformat_minor": 4
}
