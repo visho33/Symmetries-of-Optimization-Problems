{
 "cells": [
  {
   "cell_type": "code",
   "execution_count": 5,
   "metadata": {},
   "outputs": [],
   "source": [
    "def get_general_dirichlet_domain(generator, base):\n",
    "    \n",
    "    n = len(base[0])\n",
    "    G = PermutationGroup(generator)\n",
    "    inequalities = []\n",
    "\n",
    "    for i in range(n):\n",
    "        \n",
    "        #print('Estabilizando la componente',i+1)\n",
    "        \n",
    "        vector = base[i]\n",
    "        partition = {}\n",
    "        for j in range(n):\n",
    "            if vector[j] in partition.keys():\n",
    "                partition[vector[j]].append(j+1)\n",
    "            else:\n",
    "                partition[vector[j]] = [j+1]\n",
    "        \n",
    "        H = G\n",
    "        for subset in partition:\n",
    "            H = H.stabilizer(partition[subset], \"OnSets\")\n",
    "            \n",
    "        #print('La cardinalidad luego de estabilizar es de',H.cardinality())\n",
    "        \n",
    "        if H.cardinality() == G.cardinality():\n",
    "            continue\n",
    "        \n",
    "        R = [x.Representative() for x in libgap.Group(G.gens()).RightCosets(libgap.Group(H.gens()))]\n",
    "        \n",
    "        #print('Se obtuvo el tranversal')\n",
    "        \n",
    "        for coset in R:\n",
    "            lista = [0 for i in range(n+1)]\n",
    "            for i in range(n):\n",
    "                lista[i+1] = lista[i+1] + vector[i]\n",
    "                lista[libgap.OnPoints(i+1, coset)] = lista[libgap.OnPoints(i+1, coset)] - vector[i]\n",
    "            inequalities.append(tuple(lista))\n",
    "            \n",
    "            lista = [0 for i in range(n+1)]\n",
    "            for i in range(n):\n",
    "                lista[i+1] = lista[i+1] + vector[i]\n",
    "                lista[libgap.OnPoints(i+1, libgap.Inverse(coset))] = lista[libgap.OnPoints(i+1, libgap.Inverse(coset))] - vector[i]\n",
    "            inequalities.append(tuple(lista))\n",
    "        G = H\n",
    "        #print('Se completaron las desigualdades')\n",
    "    #print('Se está creando el poliedro con las desigualdades, hay', len(inequalities), 'desigualdades')\n",
    "    \n",
    "    for i in range(n): #seteamos todas las variables >=0\n",
    "        vector = [0 for i in range(n+1)]\n",
    "        vector[i+1] = 1\n",
    "        inequalities.append(tuple(vector))\n",
    "    \n",
    "    F = Polyhedron(ieqs = inequalities)\n",
    "    return F"
   ]
  },
  {
   "cell_type": "code",
   "execution_count": 8,
   "metadata": {},
   "outputs": [],
   "source": [
    "def get_rays_orbits(n, generador, rayos):\n",
    "    \n",
    "    I = IntegerVectorsModPermutationGroup(PermutationGroup(generador))\n",
    "    orbitas = {}\n",
    "    for i in range(len(rayos)):\n",
    "        \n",
    "        representante = I.retract(rayos[i])\n",
    "        if (representante in orbitas.keys()) == True:\n",
    "            orbitas[representante] = orbitas[representante] + [rayos[i]]\n",
    "            continue\n",
    "        \n",
    "        orbitas[representante] = [rayos[i]]\n",
    "            \n",
    "    return orbitas"
   ]
  },
  {
   "cell_type": "code",
   "execution_count": 9,
   "metadata": {},
   "outputs": [],
   "source": [
    "import random, numpy\n",
    "\n",
    "def generate_bases(dim, n):\n",
    "    #generate n bases of R^dim\n",
    "    random.seed(33)\n",
    "    base = [[[0 for i in range(dim)] for j in range(dim)] for k in range(n)]\n",
    "    k = 0\n",
    "    while k < n:\n",
    "        for i in range(dim):\n",
    "            for j in range(dim):\n",
    "                base[k][i][j] = random.choice([0, 1])\n",
    "        if abs(numpy.linalg.det(base[k])) >= 0.9:\n",
    "            k = k + 1\n",
    "    return base\n",
    "\n",
    "def print_matrix(matrix):\n",
    "    print(numpy.array(matrix))\n",
    "    return"
   ]
  },
  {
   "cell_type": "code",
   "execution_count": 11,
   "metadata": {},
   "outputs": [],
   "source": [
    "def experiment(generator, dim, num_bases):\n",
    "\n",
    "    orbitas = []\n",
    "    base = generate_bases(dim, num_bases)\n",
    "    for i in range(num_bases):\n",
    "        F = get_general_dirichlet_domain(generator, base[i])\n",
    "        rayos = F.rays()\n",
    "        orbitas.append(get_rays_orbits(dim, generator, rayos))\n",
    "        largos = [len(orbitas[i][orbita]) for orbita in orbitas[i].keys()]\n",
    "        largos.sort(reverse = True)\n",
    "        print('Para la base',i+1,'Los largos de las órbitas son:', largos, 'y hay ', len(F.Hrepresentation()), 'desigualdades')"
   ]
  },
  {
   "cell_type": "code",
   "execution_count": null,
   "metadata": {},
   "outputs": [],
   "source": [
    "n = 15\n",
    "generador = DihedralGroup(n).gens()\n",
    "experiment(generador, n, 20)"
   ]
  },
  {
   "cell_type": "code",
   "execution_count": null,
   "metadata": {},
   "outputs": [],
   "source": []
  }
 ],
 "metadata": {
  "kernelspec": {
   "display_name": "SageMath 9.3",
   "language": "sage",
   "name": "sagemath"
  },
  "language_info": {
   "codemirror_mode": {
    "name": "ipython",
    "version": 3
   },
   "file_extension": ".py",
   "mimetype": "text/x-python",
   "name": "python",
   "nbconvert_exporter": "python",
   "pygments_lexer": "ipython3",
   "version": "3.7.10"
  }
 },
 "nbformat": 4,
 "nbformat_minor": 4
}
