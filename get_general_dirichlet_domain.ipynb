{
 "cells": [
  {
   "cell_type": "code",
   "execution_count": 1,
   "metadata": {},
   "outputs": [],
   "source": [
    "def get_general_dirichlet_domain(n, generator, base):\n",
    "    \n",
    "    G = PermutationGroup(generator)\n",
    "    inequalities = []\n",
    "\n",
    "    for i in range(n):\n",
    "        \n",
    "        vector = base[i]\n",
    "        partition = {}\n",
    "        for j in range(n):\n",
    "            if vector[j] in partition.keys():\n",
    "                partition[vector[j]].append(j+1)\n",
    "            else:\n",
    "                partition[vector[j]] = [j+1]\n",
    "        \n",
    "        H = G\n",
    "        for subset in partition:\n",
    "            H = H.stabilizer(partition[subset], \"OnSets\")\n",
    "        \n",
    "        if H.cardinality() == G.cardinality():\n",
    "            continue\n",
    "        \n",
    "        R = G.cosets(H)\n",
    "        \n",
    "        for coset in R:\n",
    "            \n",
    "            lista = [0 for i in range(n+1)]\n",
    "            for i in range(n):\n",
    "                lista[i+1] = lista[i+1] + vector[i]\n",
    "                lista[coset[0](i+1)] = lista[coset[0](i+1)] - vector[i]\n",
    "            inequalities.append(tuple(lista))\n",
    "            \n",
    "            lista = [0 for i in range(n+1)]\n",
    "            for i in range(n):\n",
    "                lista[i+1] = lista[i+1] + vector[i]\n",
    "                lista[coset[0].inverse()(i+1)] = lista[coset[0].inverse()(i+1)] - vector[i]\n",
    "            inequalities.append(tuple(lista))\n",
    "        \n",
    "        G = H\n",
    "\n",
    "    F = Polyhedron(ieqs = inequalities)\n",
    "    return F"
   ]
  },
  {
   "cell_type": "code",
   "execution_count": 2,
   "metadata": {},
   "outputs": [
    {
     "name": "stdout",
     "output_type": "stream",
     "text": [
      "(An inequality (0, 0, 1, -1) x + 0 >= 0, An inequality (1, -1, 0, 0) x + 0 >= 0, An inequality (1, 0, -1, 0) x + 0 >= 0)\n"
     ]
    }
   ],
   "source": [
    "n = 4\n",
    "generador = [[(1,2)],[(3,4)],[(1,3),(2,4)]]\n",
    "base = [[1,0,0,0],[0,1,0,0],[0,0,1,0],[0,0,0,1]]\n",
    "F = get_general_dirichlet_domain(n, generador, base)\n",
    "print(F.Hrepresentation())"
   ]
  },
  {
   "cell_type": "code",
   "execution_count": null,
   "metadata": {},
   "outputs": [],
   "source": []
  }
 ],
 "metadata": {
  "kernelspec": {
   "display_name": "SageMath 9.3",
   "language": "sage",
   "name": "sagemath"
  },
  "language_info": {
   "codemirror_mode": {
    "name": "ipython",
    "version": 3
   },
   "file_extension": ".py",
   "mimetype": "text/x-python",
   "name": "python",
   "nbconvert_exporter": "python",
   "pygments_lexer": "ipython3",
   "version": "3.7.10"
  }
 },
 "nbformat": 4,
 "nbformat_minor": 4
}
